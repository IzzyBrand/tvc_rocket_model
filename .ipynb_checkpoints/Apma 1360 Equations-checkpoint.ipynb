{
 "cells": [
  {
   "cell_type": "code",
   "execution_count": 1,
   "metadata": {},
   "outputs": [],
   "source": [
    "from sympy import *\n",
    "import mpmath\n",
    "import matplotlib.pyplot as plt\n",
    "import numpy as np"
   ]
  },
  {
   "cell_type": "code",
   "execution_count": 2,
   "metadata": {},
   "outputs": [
    {
     "data": {
      "text/html": [
       "<style>.container { width:100% !important; }</style>"
      ],
      "text/plain": [
       "<IPython.core.display.HTML object>"
      ]
     },
     "metadata": {},
     "output_type": "display_data"
    }
   ],
   "source": [
    "from IPython.core.display import display, HTML\n",
    "display(HTML(\"<style>.container { width:100% !important; }</style>\"))\n",
    "init_printing()"
   ]
  },
  {
   "cell_type": "code",
   "execution_count": 3,
   "metadata": {},
   "outputs": [],
   "source": [
    "theta, epsilon, u, T, L, l, Dw, Dv, g, a, b, c, m, I, x, y = symbols('theta epsilon u T L l D_w D_v g a b c m I x y')"
   ]
  },
  {
   "cell_type": "code",
   "execution_count": 4,
   "metadata": {},
   "outputs": [],
   "source": [
    "def pseudo_abs(x):\n",
    "    return sqrt(x**22 + epsilon) - sqrt(epsilon)"
   ]
  },
  {
   "cell_type": "code",
   "execution_count": 5,
   "metadata": {},
   "outputs": [],
   "source": [
    "v = sqrt(a**2 + b**2)\n",
    "phi = atan2(b,a)\n",
    "\n",
    "xdot = a\n",
    "ydot = b\n",
    "thetadot= c\n",
    "\n",
    "# With drag\n",
    "# adot = 1/m * (-sin(theta + u) * T + sin(phi) * v**2 * pseudo_abs(sin(theta - phi)) * Dv)\n",
    "# bdot = 1/m * (cos(theta + u) * T - cos(phi) * v**2 * pseudo_abs(sin(theta - phi)) * Dv) - g\n",
    "# cdot = 1/I * (sin(u) * T * L - pseudo_abs(c)*c * Dw + l*v**2 * sin(theta - phi) * Dv)\n",
    "\n",
    "# Without drag\n",
    "adot = 1/m * (-sin(theta + u) * T)\n",
    "bdot = 1/m * (cos(theta + u) * T) - g\n",
    "cdot = 1/I * (sin(u) * T * L)"
   ]
  },
  {
   "cell_type": "code",
   "execution_count": 6,
   "metadata": {},
   "outputs": [
    {
     "name": "stdout",
     "output_type": "stream",
     "text": [
      "-g⋅sin(θ) \n",
      "──────────\n",
      "    m     \n",
      "     g⋅cos(θ)\n",
      "-g + ────────\n",
      "        m    \n",
      "0\n"
     ]
    }
   ],
   "source": [
    "pprint(adot)\n",
    "pprint(bdot)\n",
    "pprint(cdot)"
   ]
  },
  {
   "cell_type": "code",
   "execution_count": 7,
   "metadata": {},
   "outputs": [],
   "source": [
    "state_vec = Matrix([thetadot,adot, bdot, cdot])\n",
    "# pprint(state_vec)"
   ]
  },
  {
   "cell_type": "code",
   "execution_count": 8,
   "metadata": {},
   "outputs": [
    {
     "data": {
      "image/png": "[encoded data removed]",
      "text/latex": [
       "$$\\left[\\begin{matrix}0 & 0 & 0 & 1\\\\- \\frac{g \\cos{\\left (\\theta \\right )}}{m} & 0 & 0 & 0\\\\- \\frac{g \\sin{\\left (\\theta \\right )}}{m} & 0 & 0 & 0\\\\0 & 0 & 0 & 0\\end{matrix}\\right]$$"
      ],
      "text/plain": [
       "⎡    0       0  0  1⎤\n",
       "⎢                   ⎥\n",
       "⎢-g⋅cos(θ)          ⎥\n",
       "⎢──────────  0  0  0⎥\n",
       "⎢    m              ⎥\n",
       "⎢                   ⎥\n",
       "⎢-g⋅sin(θ)          ⎥\n",
       "⎢──────────  0  0  0⎥\n",
       "⎢    m              ⎥\n",
       "⎢                   ⎥\n",
       "⎣    0       0  0  0⎦"
      ]
     },
     "execution_count": 8,
     "metadata": {},
     "output_type": "execute_result"
    }
   ],
   "source": [
    "# jac = state_vec.jacobian(Matrix([x, y, theta, a, b, c]))\n",
    "# jac_abs = state_vec_abs.jacobian(Matrix([x, y, theta, a, b, c]))\n",
    "jac = state_vec.jacobian(Matrix([theta, a, b, c]))\n",
    "jac"
   ]
  },
  {
   "cell_type": "code",
   "execution_count": 9,
   "metadata": {},
   "outputs": [
    {
     "data": {
      "image/png": "[encoded data removed]",
      "text/latex": [
       "$$\\left[\\begin{matrix}0 & 0 & 0 & 1\\\\-10.0 & 0 & 0 & 0\\\\0 & 0 & 0 & 0\\\\0 & 0 & 0 & 0\\end{matrix}\\right]$$"
      ],
      "text/plain": [
       "⎡  0    0  0  1⎤\n",
       "⎢              ⎥\n",
       "⎢-10.0  0  0  0⎥\n",
       "⎢              ⎥\n",
       "⎢  0    0  0  0⎥\n",
       "⎢              ⎥\n",
       "⎣  0    0  0  0⎦"
      ]
     },
     "execution_count": 9,
     "metadata": {},
     "output_type": "execute_result"
    }
   ],
   "source": [
    "# drag parameters\n",
    "l_real = 0.\n",
    "Dv_real = 0.\n",
    "Dw_real = 0.\n",
    "\n",
    "# other params\n",
    "L_real = -1\n",
    "I_real = 1.\n",
    "m_real = 1.\n",
    "g_real = 10.\n",
    "T_real = 10.\n",
    "theta_real = 0\n",
    "phi_real = 0.\n",
    "epsilon_real = 1e-10\n",
    "a_real = 0.\n",
    "b_real = 1.\n",
    "c_real = 0.\n",
    "\n",
    "# with drag\n",
    "# jac_subs = jac.subs(L,L_real).subs(l,l_real).subs(Dv, Dv_real).subs(Dw, Dw_real).subs(I, I_real).subs(m,m_real).subs(g,g_real).subs(T, T_real).subs(theta, theta_real).subs(phi,phi_real).subs(epsilon, epsilon_real).subs(a,a_real).subs(b,b_real).subs(c,c_real)\n",
    "\n",
    "# without drag\n",
    "jac_subs = jac.subs(L,L_real).subs(I, I_real).subs(m,m_real).subs(g,g_real).subs(theta, theta_real).subs(phi,phi_real).subs(epsilon, epsilon_real).subs(a,a_real).subs(b,b_real).subs(c,c_real)\n",
    "jac_subs_np = np.array(jac_subs,dtype=np.float64)\n",
    "jac_subs"
   ]
  },
  {
   "cell_type": "code",
   "execution_count": 10,
   "metadata": {},
   "outputs": [],
   "source": [
    "[evals, evecs] = np.linalg.eig(jac_subs_np)"
   ]
  },
  {
   "cell_type": "code",
   "execution_count": 11,
   "metadata": {},
   "outputs": [
    {
     "name": "stdout",
     "output_type": "stream",
     "text": [
      "[0. 0. 0. 0.]\n",
      "[0. 0. 0. 0.] \n",
      "\n",
      "[[ 0.  0.  0. -0.]\n",
      " [ 1.  1.  0. -1.]\n",
      " [ 0.  0.  1.  0.]\n",
      " [ 0.  0.  0.  0.]]\n",
      "[[0. 0. 0. 0.]\n",
      " [0. 0. 0. 0.]\n",
      " [0. 0. 0. 0.]\n",
      " [0. 0. 0. 0.]]\n"
     ]
    }
   ],
   "source": [
    "np.set_printoptions(linewidth=200, suppress=True)\n",
    "# print(evals, '\\n')\n",
    "# print(evecs)\n",
    "print(np.real(evals))\n",
    "print(np.imag(evals),'\\n')\n",
    "print(np.real(evecs))\n",
    "print(np.imag(evecs))\n",
    "#[print(vec) for vec in np.real(evecs)]"
   ]
  },
  {
   "cell_type": "code",
   "execution_count": null,
   "metadata": {},
   "outputs": [],
   "source": []
  },
  {
   "cell_type": "code",
   "execution_count": null,
   "metadata": {},
   "outputs": [],
   "source": []
  },
  {
   "cell_type": "code",
   "execution_count": null,
   "metadata": {},
   "outputs": [],
   "source": []
  },
  {
   "cell_type": "code",
   "execution_count": null,
   "metadata": {},
   "outputs": [],
   "source": []
  }
 ],
 "metadata": {
  "kernelspec": {
   "display_name": "Python 3",
   "language": "python",
   "name": "python3"
  },
  "language_info": {
   "codemirror_mode": {
    "name": "ipython",
    "version": 3
   },
   "file_extension": ".py",
   "mimetype": "text/x-python",
   "name": "python",
   "nbconvert_exporter": "python",
   "pygments_lexer": "ipython3",
   "version": "3.7.3"
  }
 },
 "nbformat": 4,
 "nbformat_minor": 2
}
