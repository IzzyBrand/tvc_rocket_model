{
 "cells": [
  {
   "cell_type": "code",
   "execution_count": 1,
   "metadata": {},
   "outputs": [],
   "source": [
    "from sympy import *\n",
    "import mpmath\n",
    "import matplotlib.pyplot as plt\n",
    "import numpy as np"
   ]
  },
  {
   "cell_type": "code",
   "execution_count": 2,
   "metadata": {},
   "outputs": [
    {
     "data": {
      "text/html": [
       "<style>.container { width:100% !important; }</style>"
      ],
      "text/plain": [
       "<IPython.core.display.HTML object>"
      ]
     },
     "metadata": {},
     "output_type": "display_data"
    }
   ],
   "source": [
    "from IPython.core.display import display, HTML\n",
    "display(HTML(\"<style>.container { width:100% !important; }</style>\"))\n",
    "init_printing()"
   ]
  },
  {
   "cell_type": "code",
   "execution_count": 3,
   "metadata": {},
   "outputs": [],
   "source": [
    "theta, epsilon, T, L, l, Dw, Dv, g, a, b, c, m, I, x, y = symbols('theta epsilon T L l D_w D_v g a b c m I x y')"
   ]
  },
  {
   "cell_type": "code",
   "execution_count": 138,
   "metadata": {},
   "outputs": [],
   "source": [
    "v = sqrt(a**2 + b**2)\n",
    "phi = atan2(b,a)\n",
    "\n",
    "u = theta\n",
    "\n",
    "xdot = a\n",
    "ydot = b\n",
    "thetadot= c\n",
    "adot = 1/m * (-sin(theta + u) * T + sin(phi) * v**2 * Abs(sin(theta - phi) * Dv))\n",
    "bdot = 1/m * (cos(theta + u)*T - cos(phi) * v**2 * Abs(sin(theta - phi) * Dv)) - g\n",
    "cdot = 1/I * (sin(u) * T * L - Abs(c)*c * Dw + l*v**2 * sin(theta - phi) * Dv)"
   ]
  },
  {
   "cell_type": "code",
   "execution_count": 139,
   "metadata": {},
   "outputs": [
    {
     "name": "stdout",
     "output_type": "stream",
     "text": [
      "                   _________                          \n",
      "                  ╱  2    2                           \n",
      "-T⋅sin(2⋅θ) + b⋅╲╱  a  + b  ⋅│Dᵥ⋅sin(θ - atan2(b, a))│\n",
      "──────────────────────────────────────────────────────\n",
      "                          m                           \n"
     ]
    }
   ],
   "source": [
    "pprint(adot)"
   ]
  },
  {
   "cell_type": "code",
   "execution_count": 140,
   "metadata": {},
   "outputs": [
    {
     "name": "stdout",
     "output_type": "stream",
     "text": [
      "                       _________                          \n",
      "                      ╱  2    2                           \n",
      "     T⋅cos(2⋅θ) - a⋅╲╱  a  + b  ⋅│Dᵥ⋅sin(θ - atan2(b, a))│\n",
      "-g + ─────────────────────────────────────────────────────\n",
      "                               m                          \n"
     ]
    }
   ],
   "source": [
    "pprint(bdot)"
   ]
  },
  {
   "cell_type": "code",
   "execution_count": 141,
   "metadata": {},
   "outputs": [
    {
     "name": "stdout",
     "output_type": "stream",
     "text": [
      "     ⎛ 2    2⎞                                              \n",
      "Dᵥ⋅l⋅⎝a  + b ⎠⋅sin(θ - atan2(b, a)) - D_w⋅c⋅│c│ + L⋅T⋅sin(θ)\n",
      "────────────────────────────────────────────────────────────\n",
      "                             I                              \n"
     ]
    }
   ],
   "source": [
    "pprint(cdot)"
   ]
  },
  {
   "cell_type": "code",
   "execution_count": 142,
   "metadata": {},
   "outputs": [],
   "source": [
    "adot_corr = 1/m * (-sin(theta + u) * T + sin(phi) * v**2 * (sqrt((sin(theta - phi) * Dv)**2 + epsilon)-sqrt(epsilon)))\n",
    "bdot_corr = 1/m * (cos(theta + u)*T - cos(phi) * v**2 * (sqrt((sin(theta - phi) * Dv)**2 + epsilon)-sqrt(epsilon))) - g\n",
    "cdot_corr = 1/I * (sin(u) * T * L - (sqrt(c**2 + epsilon)-sqrt(epsilon))*c * Dw + l*v**2 * sin(theta - phi) * Dv)"
   ]
  },
  {
   "cell_type": "code",
   "execution_count": 143,
   "metadata": {},
   "outputs": [
    {
     "name": "stdout",
     "output_type": "stream",
     "text": [
      "                   _________ ⎛         _______________________________⎞\n",
      "                  ╱  2    2  ⎜        ╱   2    2                      ⎟\n",
      "-T⋅sin(2⋅θ) + b⋅╲╱  a  + b  ⋅⎝-√ε + ╲╱  Dᵥ ⋅sin (θ - atan2(b, a)) + ε ⎠\n",
      "───────────────────────────────────────────────────────────────────────\n",
      "                                   m                                   \n"
     ]
    }
   ],
   "source": [
    "pprint(adot_corr)"
   ]
  },
  {
   "cell_type": "code",
   "execution_count": 144,
   "metadata": {},
   "outputs": [
    {
     "name": "stdout",
     "output_type": "stream",
     "text": [
      "                       _________ ⎛         _______________________________⎞\n",
      "                      ╱  2    2  ⎜        ╱   2    2                      ⎟\n",
      "     T⋅cos(2⋅θ) - a⋅╲╱  a  + b  ⋅⎝-√ε + ╲╱  Dᵥ ⋅sin (θ - atan2(b, a)) + ε ⎠\n",
      "-g + ──────────────────────────────────────────────────────────────────────\n",
      "                                       m                                   \n"
     ]
    }
   ],
   "source": [
    "pprint(bdot_corr)"
   ]
  },
  {
   "cell_type": "code",
   "execution_count": 145,
   "metadata": {},
   "outputs": [
    {
     "name": "stdout",
     "output_type": "stream",
     "text": [
      "                                            ⎛         ________⎞             \n",
      "     ⎛ 2    2⎞                              ⎜        ╱  2     ⎟             \n",
      "Dᵥ⋅l⋅⎝a  + b ⎠⋅sin(θ - atan2(b, a)) - D_w⋅c⋅⎝-√ε + ╲╱  c  + ε ⎠ + L⋅T⋅sin(θ)\n",
      "────────────────────────────────────────────────────────────────────────────\n",
      "                                     I                                      \n"
     ]
    }
   ],
   "source": [
    "pprint(cdot_corr)"
   ]
  },
  {
   "cell_type": "code",
   "execution_count": 146,
   "metadata": {},
   "outputs": [
    {
     "name": "stdout",
     "output_type": "stream",
     "text": [
      "⎡                                     c                                      ⎤\n",
      "⎢                                                                            ⎥\n",
      "⎢                     _________ ⎛         _______________________________⎞   ⎥\n",
      "⎢                    ╱  2    2  ⎜        ╱   2    2                      ⎟   ⎥\n",
      "⎢  -T⋅sin(2⋅θ) + b⋅╲╱  a  + b  ⋅⎝-√ε + ╲╱  Dᵥ ⋅sin (θ - atan2(b, a)) + ε ⎠   ⎥\n",
      "⎢  ───────────────────────────────────────────────────────────────────────   ⎥\n",
      "⎢                                     m                                      ⎥\n",
      "⎢                                                                            ⎥\n",
      "⎢                       _________ ⎛         _______________________________⎞ ⎥\n",
      "⎢                      ╱  2    2  ⎜        ╱   2    2                      ⎟ ⎥\n",
      "⎢     T⋅cos(2⋅θ) - a⋅╲╱  a  + b  ⋅⎝-√ε + ╲╱  Dᵥ ⋅sin (θ - atan2(b, a)) + ε ⎠ ⎥\n",
      "⎢-g + ────────────────────────────────────────────────────────────────────── ⎥\n",
      "⎢                                       m                                    ⎥\n",
      "⎢                                                                            ⎥\n",
      "⎢                                            ⎛         ________⎞             ⎥\n",
      "⎢     ⎛ 2    2⎞                              ⎜        ╱  2     ⎟             ⎥\n",
      "⎢Dᵥ⋅l⋅⎝a  + b ⎠⋅sin(θ - atan2(b, a)) - D_w⋅c⋅⎝-√ε + ╲╱  c  + ε ⎠ + L⋅T⋅sin(θ)⎥\n",
      "⎢────────────────────────────────────────────────────────────────────────────⎥\n",
      "⎣                                     I                                      ⎦\n",
      "⎡                             c                              ⎤\n",
      "⎢                                                            ⎥\n",
      "⎢                      _________                             ⎥\n",
      "⎢                     ╱  2    2                              ⎥\n",
      "⎢   -T⋅sin(2⋅θ) + b⋅╲╱  a  + b  ⋅│Dᵥ⋅sin(θ - atan2(b, a))│   ⎥\n",
      "⎢   ──────────────────────────────────────────────────────   ⎥\n",
      "⎢                             m                              ⎥\n",
      "⎢                                                            ⎥\n",
      "⎢                        _________                           ⎥\n",
      "⎢                       ╱  2    2                            ⎥\n",
      "⎢      T⋅cos(2⋅θ) - a⋅╲╱  a  + b  ⋅│Dᵥ⋅sin(θ - atan2(b, a))│ ⎥\n",
      "⎢ -g + ───────────────────────────────────────────────────── ⎥\n",
      "⎢                                m                           ⎥\n",
      "⎢                                                            ⎥\n",
      "⎢     ⎛ 2    2⎞                                              ⎥\n",
      "⎢Dᵥ⋅l⋅⎝a  + b ⎠⋅sin(θ - atan2(b, a)) - D_w⋅c⋅│c│ + L⋅T⋅sin(θ)⎥\n",
      "⎢────────────────────────────────────────────────────────────⎥\n",
      "⎣                             I                              ⎦\n"
     ]
    }
   ],
   "source": [
    "# state_vec_abs = Matrix([xdot,ydot,thetadot,adot, bdot, cdot])\n",
    "# state_vec = Matrix([xdot,ydot,thetadot,adot_corr, bdot_corr, cdot_corr])\n",
    "state_vec_abs = Matrix([thetadot,adot, bdot, cdot])\n",
    "state_vec = Matrix([thetadot,adot_corr, bdot_corr, cdot_corr])\n",
    "pprint(state_vec)\n",
    "pprint(state_vec_abs)"
   ]
  },
  {
   "cell_type": "code",
   "execution_count": 147,
   "metadata": {},
   "outputs": [],
   "source": [
    "# jac = state_vec.jacobian(Matrix([x, y, theta, a, b, c]))\n",
    "# jac_abs = state_vec_abs.jacobian(Matrix([x, y, theta, a, b, c]))\n",
    "jac = state_vec.jacobian(Matrix([theta, a, b, c]))\n",
    "jac_abs = state_vec_abs.jacobian(Matrix([theta, a, b, c]))"
   ]
  },
  {
   "cell_type": "code",
   "execution_count": 148,
   "metadata": {
    "scrolled": false
   },
   "outputs": [
    {
     "data": {
      "image/png": "[encoded data removed]",
      "text/latex": [
       "$$\\left[\\begin{matrix}0 & 0 & 0 & 1\\\\\\frac{\\frac{D_{v}^{2} b \\sqrt{a^{2} + b^{2}} \\sin{\\left (\\theta - \\operatorname{atan_{2}}{\\left (b,a \\right )} \\right )} \\cos{\\left (\\theta - \\operatorname{atan_{2}}{\\left (b,a \\right )} \\right )}}{\\sqrt{D_{v}^{2} \\sin^{2}{\\left (\\theta - \\operatorname{atan_{2}}{\\left (b,a \\right )} \\right )} + \\epsilon}} - 2 T \\cos{\\left (2 \\theta \\right )}}{m} & \\frac{\\frac{D_{v}^{2} b^{2} \\sin{\\left (\\theta - \\operatorname{atan_{2}}{\\left (b,a \\right )} \\right )} \\cos{\\left (\\theta - \\operatorname{atan_{2}}{\\left (b,a \\right )} \\right )}}{\\sqrt{a^{2} + b^{2}} \\sqrt{D_{v}^{2} \\sin^{2}{\\left (\\theta - \\operatorname{atan_{2}}{\\left (b,a \\right )} \\right )} + \\epsilon}} + \\frac{a b \\left(- \\sqrt{\\epsilon} + \\sqrt{D_{v}^{2} \\sin^{2}{\\left (\\theta - \\operatorname{atan_{2}}{\\left (b,a \\right )} \\right )} + \\epsilon}\\right)}{\\sqrt{a^{2} + b^{2}}}}{m} & \\frac{- \\frac{D_{v}^{2} a b \\sin{\\left (\\theta - \\operatorname{atan_{2}}{\\left (b,a \\right )} \\right )} \\cos{\\left (\\theta - \\operatorname{atan_{2}}{\\left (b,a \\right )} \\right )}}{\\sqrt{a^{2} + b^{2}} \\sqrt{D_{v}^{2} \\sin^{2}{\\left (\\theta - \\operatorname{atan_{2}}{\\left (b,a \\right )} \\right )} + \\epsilon}} + \\frac{b^{2} \\left(- \\sqrt{\\epsilon} + \\sqrt{D_{v}^{2} \\sin^{2}{\\left (\\theta - \\operatorname{atan_{2}}{\\left (b,a \\right )} \\right )} + \\epsilon}\\right)}{\\sqrt{a^{2} + b^{2}}} + \\sqrt{a^{2} + b^{2}} \\left(- \\sqrt{\\epsilon} + \\sqrt{D_{v}^{2} \\sin^{2}{\\left (\\theta - \\operatorname{atan_{2}}{\\left (b,a \\right )} \\right )} + \\epsilon}\\right)}{m} & 0\\\\\\frac{- \\frac{D_{v}^{2} a \\sqrt{a^{2} + b^{2}} \\sin{\\left (\\theta - \\operatorname{atan_{2}}{\\left (b,a \\right )} \\right )} \\cos{\\left (\\theta - \\operatorname{atan_{2}}{\\left (b,a \\right )} \\right )}}{\\sqrt{D_{v}^{2} \\sin^{2}{\\left (\\theta - \\operatorname{atan_{2}}{\\left (b,a \\right )} \\right )} + \\epsilon}} - 2 T \\sin{\\left (2 \\theta \\right )}}{m} & \\frac{- \\frac{D_{v}^{2} a b \\sin{\\left (\\theta - \\operatorname{atan_{2}}{\\left (b,a \\right )} \\right )} \\cos{\\left (\\theta - \\operatorname{atan_{2}}{\\left (b,a \\right )} \\right )}}{\\sqrt{a^{2} + b^{2}} \\sqrt{D_{v}^{2} \\sin^{2}{\\left (\\theta - \\operatorname{atan_{2}}{\\left (b,a \\right )} \\right )} + \\epsilon}} - \\frac{a^{2} \\left(- \\sqrt{\\epsilon} + \\sqrt{D_{v}^{2} \\sin^{2}{\\left (\\theta - \\operatorname{atan_{2}}{\\left (b,a \\right )} \\right )} + \\epsilon}\\right)}{\\sqrt{a^{2} + b^{2}}} - \\sqrt{a^{2} + b^{2}} \\left(- \\sqrt{\\epsilon} + \\sqrt{D_{v}^{2} \\sin^{2}{\\left (\\theta - \\operatorname{atan_{2}}{\\left (b,a \\right )} \\right )} + \\epsilon}\\right)}{m} & \\frac{\\frac{D_{v}^{2} a^{2} \\sin{\\left (\\theta - \\operatorname{atan_{2}}{\\left (b,a \\right )} \\right )} \\cos{\\left (\\theta - \\operatorname{atan_{2}}{\\left (b,a \\right )} \\right )}}{\\sqrt{a^{2} + b^{2}} \\sqrt{D_{v}^{2} \\sin^{2}{\\left (\\theta - \\operatorname{atan_{2}}{\\left (b,a \\right )} \\right )} + \\epsilon}} - \\frac{a b \\left(- \\sqrt{\\epsilon} + \\sqrt{D_{v}^{2} \\sin^{2}{\\left (\\theta - \\operatorname{atan_{2}}{\\left (b,a \\right )} \\right )} + \\epsilon}\\right)}{\\sqrt{a^{2} + b^{2}}}}{m} & 0\\\\\\frac{D_{v} l \\left(a^{2} + b^{2}\\right) \\cos{\\left (\\theta - \\operatorname{atan_{2}}{\\left (b,a \\right )} \\right )} + L T \\cos{\\left (\\theta \\right )}}{I} & \\frac{2 D_{v} a l \\sin{\\left (\\theta - \\operatorname{atan_{2}}{\\left (b,a \\right )} \\right )} + D_{v} b l \\cos{\\left (\\theta - \\operatorname{atan_{2}}{\\left (b,a \\right )} \\right )}}{I} & \\frac{- D_{v} a l \\cos{\\left (\\theta - \\operatorname{atan_{2}}{\\left (b,a \\right )} \\right )} + 2 D_{v} b l \\sin{\\left (\\theta - \\operatorname{atan_{2}}{\\left (b,a \\right )} \\right )}}{I} & \\frac{- \\frac{D_{w} c^{2}}{\\sqrt{c^{2} + \\epsilon}} - D_{w} \\left(- \\sqrt{\\epsilon} + \\sqrt{c^{2} + \\epsilon}\\right)}{I}\\end{matrix}\\right]$$"
      ],
      "text/plain": [
       "⎡                                      0                                      \n",
       "⎢                                                                             \n",
       "⎢          _________                                                          \n",
       "⎢   2     ╱  2    2                                                           \n",
       "⎢ Dᵥ ⋅b⋅╲╱  a  + b  ⋅sin(θ - atan2(b, a))⋅cos(θ - atan2(b, a))                \n",
       "⎢ ──────────────────────────────────────────────────────────── - 2⋅T⋅cos(2⋅θ) \n",
       "⎢                 _______________________________                             \n",
       "⎢                ╱   2    2                                                   \n",
       "⎢              ╲╱  Dᵥ ⋅sin (θ - atan2(b, a)) + ε                              \n",
       "⎢ ─────────────────────────────────────────────────────────────────────────── \n",
       "⎢                                      m                                      \n",
       "⎢                                                                             \n",
       "⎢           _________                                                         \n",
       "⎢    2     ╱  2    2                                                          \n",
       "⎢  Dᵥ ⋅a⋅╲╱  a  + b  ⋅sin(θ - atan2(b, a))⋅cos(θ - atan2(b, a))               \n",
       "⎢- ──────────────────────────────────────────────────────────── - 2⋅T⋅sin(2⋅θ)\n",
       "⎢                  _______________________________                            \n",
       "⎢                 ╱   2    2                                                  \n",
       "⎢               ╲╱  Dᵥ ⋅sin (θ - atan2(b, a)) + ε                             \n",
       "⎢─────────────────────────────────────────────────────────────────────────────\n",
       "⎢                                      m                                      \n",
       "⎢                                                                             \n",
       "⎢                                                                             \n",
       "⎢                                                                             \n",
       "⎢                                                                             \n",
       "⎢                                                                             \n",
       "⎢                   ⎛ 2    2⎞                                                 \n",
       "⎢              Dᵥ⋅l⋅⎝a  + b ⎠⋅cos(θ - atan2(b, a)) + L⋅T⋅cos(θ)               \n",
       "⎢              ────────────────────────────────────────────────               \n",
       "⎣                                     I                                       \n",
       "\n",
       "                                                                              \n",
       "                                                                              \n",
       "                                                                              \n",
       "                                  2  2                                        \n",
       "                                Dᵥ ⋅b ⋅sin(θ - atan2(b, a))⋅cos(θ - atan2(b, a\n",
       "                                ──────────────────────────────────────────────\n",
       "                                   _________    ______________________________\n",
       "                                  ╱  2    2    ╱   2    2                     \n",
       "                                ╲╱  a  + b  ⋅╲╱  Dᵥ ⋅sin (θ - atan2(b, a)) + ε\n",
       "                                ──────────────────────────────────────────────\n",
       "                                                                              \n",
       "                                                                              \n",
       "                                                           ⎛         _________\n",
       "      2                                                  2 ⎜        ╱   2    2\n",
       "    Dᵥ ⋅a⋅b⋅sin(θ - atan2(b, a))⋅cos(θ - atan2(b, a))   a ⋅⎝-√ε + ╲╱  Dᵥ ⋅sin \n",
       "  - ───────────────────────────────────────────────── - ──────────────────────\n",
       "        _________    _______________________________                        __\n",
       "       ╱  2    2    ╱   2    2                                             ╱  \n",
       "     ╲╱  a  + b  ⋅╲╱  Dᵥ ⋅sin (θ - atan2(b, a)) + ε                      ╲╱  a\n",
       "  ────────────────────────────────────────────────────────────────────────────\n",
       "                                                                              \n",
       "                                                                              \n",
       "                                                                              \n",
       "                                                                              \n",
       "                                                                              \n",
       "                                                                              \n",
       "                                                                              \n",
       "                                                   2⋅Dᵥ⋅a⋅l⋅sin(θ - atan2(b, a\n",
       "                                                   ───────────────────────────\n",
       "                                                                              \n",
       "\n",
       "  0                                                                           \n",
       "                                                                              \n",
       "         ⎛         _______________________________⎞                           \n",
       "         ⎜        ╱   2    2                      ⎟                           \n",
       "))   a⋅b⋅⎝-√ε + ╲╱  Dᵥ ⋅sin (θ - atan2(b, a)) + ε ⎠                           \n",
       "── + ──────────────────────────────────────────────                           \n",
       "_                        _________                                            \n",
       "                        ╱  2    2                                             \n",
       "                      ╲╱  a  + b                                              \n",
       "───────────────────────────────────────────────────                           \n",
       "  m                                                                           \n",
       "                                                                              \n",
       "______________________⎞                                                       \n",
       "                      ⎟      _________ ⎛         _____________________________\n",
       "(θ - atan2(b, a)) + ε ⎠     ╱  2    2  ⎜        ╱   2    2                    \n",
       "─────────────────────── - ╲╱  a  + b  ⋅⎝-√ε + ╲╱  Dᵥ ⋅sin (θ - atan2(b, a)) + \n",
       "_______                                                                       \n",
       "2    2                                                                        \n",
       "  + b                                                                         \n",
       "──────────────────────────────────────────────────────────────────────────────\n",
       "  m                                                                           \n",
       "                                                                              \n",
       "                                                                              \n",
       "                                                                              \n",
       "                                                                              \n",
       "                                                                              \n",
       "                                                                              \n",
       ")) + Dᵥ⋅b⋅l⋅cos(θ - atan2(b, a))                                              \n",
       "────────────────────────────────                                              \n",
       "  I                                                                           \n",
       "\n",
       "                                                                              \n",
       "                                                                              \n",
       "                                                              ⎛         ______\n",
       "         2                                                  2 ⎜        ╱   2  \n",
       "       Dᵥ ⋅a⋅b⋅sin(θ - atan2(b, a))⋅cos(θ - atan2(b, a))   b ⋅⎝-√ε + ╲╱  Dᵥ ⋅s\n",
       "     - ───────────────────────────────────────────────── + ───────────────────\n",
       "           _________    _______________________________                       \n",
       "          ╱  2    2    ╱   2    2                                             \n",
       "        ╲╱  a  + b  ⋅╲╱  Dᵥ ⋅sin (θ - atan2(b, a)) + ε                      ╲╱\n",
       "     ─────────────────────────────────────────────────────────────────────────\n",
       "                                                                              \n",
       "                                                                              \n",
       "                                                                              \n",
       "__⎞                                  2  2                                     \n",
       "  ⎟                                Dᵥ ⋅a ⋅sin(θ - atan2(b, a))⋅cos(θ - atan2(b\n",
       "ε ⎠                                ───────────────────────────────────────────\n",
       "                                      _________    ___________________________\n",
       "                                     ╱  2    2    ╱   2    2                  \n",
       "                                   ╲╱  a  + b  ⋅╲╱  Dᵥ ⋅sin (θ - atan2(b, a)) \n",
       "───                                ───────────────────────────────────────────\n",
       "                                                                              \n",
       "                                                                              \n",
       "                                                                              \n",
       "                                                                              \n",
       "                                                                              \n",
       "                                                                              \n",
       "                                                                              \n",
       "                                                     -Dᵥ⋅a⋅l⋅cos(θ - atan2(b, \n",
       "                                                     ─────────────────────────\n",
       "                                                                              \n",
       "\n",
       "     0                                                                        \n",
       "                                                                              \n",
       "_________________________⎞                                                    \n",
       "  2                      ⎟      _________ ⎛         __________________________\n",
       "in (θ - atan2(b, a)) + ε ⎠     ╱  2    2  ⎜        ╱   2    2                 \n",
       "────────────────────────── + ╲╱  a  + b  ⋅⎝-√ε + ╲╱  Dᵥ ⋅sin (θ - atan2(b, a))\n",
       " _________                                                                    \n",
       "╱  2    2                                                                     \n",
       "  a  + b                                                                      \n",
       "──────────────────────────────────────────────────────────────────────────────\n",
       "     m                                                                        \n",
       "                                                                              \n",
       "            ⎛         _______________________________⎞                        \n",
       "            ⎜        ╱   2    2                      ⎟                        \n",
       ", a))   a⋅b⋅⎝-√ε + ╲╱  Dᵥ ⋅sin (θ - atan2(b, a)) + ε ⎠                        \n",
       "───── - ──────────────────────────────────────────────                        \n",
       "____                        _________                                         \n",
       "                           ╱  2    2                                          \n",
       "+ ε                      ╲╱  a  + b                                           \n",
       "──────────────────────────────────────────────────────                        \n",
       "     m                                                                        \n",
       "                                                                              \n",
       "                                                                              \n",
       "                                                                              \n",
       "                                                                              \n",
       "                                                                              \n",
       "                                                                              \n",
       "a)) + 2⋅Dᵥ⋅b⋅l⋅sin(θ - atan2(b, a))                                           \n",
       "───────────────────────────────────                                           \n",
       "    I                                                                         \n",
       "\n",
       "                           1                   ⎤\n",
       "                                               ⎥\n",
       "                                               ⎥\n",
       "_____⎞                                         ⎥\n",
       "     ⎟                                         ⎥\n",
       " + ε ⎠                                         ⎥\n",
       "                                               ⎥\n",
       "                                               ⎥\n",
       "                                               ⎥\n",
       "──────                     0                   ⎥\n",
       "                                               ⎥\n",
       "                                               ⎥\n",
       "                                               ⎥\n",
       "                                               ⎥\n",
       "                                               ⎥\n",
       "                                               ⎥\n",
       "                                               ⎥\n",
       "                                               ⎥\n",
       "                                               ⎥\n",
       "                           0                   ⎥\n",
       "                                               ⎥\n",
       "                                               ⎥\n",
       "                  2         ⎛         ________⎞⎥\n",
       "             D_w⋅c          ⎜        ╱  2     ⎟⎥\n",
       "        - ─────────── - D_w⋅⎝-√ε + ╲╱  c  + ε ⎠⎥\n",
       "             ________                          ⎥\n",
       "            ╱  2                               ⎥\n",
       "          ╲╱  c  + ε                           ⎥\n",
       "        ───────────────────────────────────────⎥\n",
       "                           I                   ⎦"
      ]
     },
     "execution_count": 148,
     "metadata": {},
     "output_type": "execute_result"
    }
   ],
   "source": [
    "jac"
   ]
  },
  {
   "cell_type": "code",
   "execution_count": 149,
   "metadata": {
    "scrolled": false
   },
   "outputs": [],
   "source": [
    "#eval_plus = - Dw * (2*c**2) / (2 * I * Abs(c)) + sqrt((4 * Dv * I * l * v**2 * c **2 * cos(phi - theta) + Dw**2 * (2*c**2)**2)/(2 * I * Abs(c)))\n",
    "#evals_minus = Dw * (2*c**2) / (2 * I * Abs(c)) - sqrt((4 * Dv * I * l * v**2 * c **2 * cos(phi - theta) + Dw**2 * (2*c**2)**2)/(2 * I * Abs(c)))\n",
    "\n",
    "#pprint(eval_plus)"
   ]
  },
  {
   "cell_type": "code",
   "execution_count": 162,
   "metadata": {},
   "outputs": [
    {
     "data": {
      "image/png": "[encoded data removed]",
      "text/latex": [
       "$$\\left[\\begin{matrix}0 & 0 & 0 & 1\\\\-19.6 & 0 & 1.99980001 & 0\\\\0 & -0.999900005 & 0 & 0\\\\-9.8 & 0 & 0 & 0\\end{matrix}\\right]$$"
      ],
      "text/plain": [
       "⎡  0         0            0       1⎤\n",
       "⎢                                  ⎥\n",
       "⎢-19.6       0        1.99980001  0⎥\n",
       "⎢                                  ⎥\n",
       "⎢  0    -0.999900005      0       0⎥\n",
       "⎢                                  ⎥\n",
       "⎣-9.8        0            0       0⎦"
      ]
     },
     "execution_count": 162,
     "metadata": {},
     "output_type": "execute_result"
    }
   ],
   "source": [
    "L_real = -1\n",
    "l_real = 0.\n",
    "Dv_real = 0.1\n",
    "Dw_real = 1.\n",
    "I_real = 1.\n",
    "m_real = 1.\n",
    "g_real = 9.8\n",
    "T_real = 9.8\n",
    "theta_real = 0.\n",
    "phi_real = 0.\n",
    "epsilon_real = 1e-10\n",
    "a_real = 0.\n",
    "b_real = 10.\n",
    "c_real = 0.\n",
    "\n",
    "jac_subs = jac.subs(L,L_real).subs(l,l_real).subs(Dv, Dv_real).subs(Dw, Dw_real).subs(I, I_real).subs(m,m_real).subs(g,g_real).subs(T, T_real).subs(theta, theta_real).subs(phi,phi_real).subs(epsilon, epsilon_real).subs(a,a_real).subs(b,b_real).subs(c,c_real)\n",
    "jac_subs"
   ]
  },
  {
   "cell_type": "code",
   "execution_count": 163,
   "metadata": {},
   "outputs": [
    {
     "data": {
      "text/plain": [
       "array([[  0.        ,   0.        ,   0.        ,   1.        ],\n",
       "       [-19.6       ,   0.        ,   1.99980001,   0.        ],\n",
       "       [  0.        ,  -0.99990001,   0.        ,   0.        ],\n",
       "       [ -9.8       ,   0.        ,   0.        ,   0.        ]])"
      ]
     },
     "execution_count": 163,
     "metadata": {},
     "output_type": "execute_result"
    }
   ],
   "source": [
    "jac_subs_np = np.array(jac_subs,dtype=np.float64)\n",
    "jac_subs_np"
   ]
  },
  {
   "cell_type": "code",
   "execution_count": 164,
   "metadata": {},
   "outputs": [],
   "source": [
    "[evals, evecs] = np.linalg.eig(jac_subs_np)"
   ]
  },
  {
   "cell_type": "code",
   "execution_count": 165,
   "metadata": {},
   "outputs": [
    {
     "name": "stdout",
     "output_type": "stream",
     "text": [
      "[-0. -0.  0.  0.]\n",
      "[ 3.13049517 -3.13049517  1.41407215 -1.41407215] \n",
      "\n",
      "[[ 0.          0.         -0.         -0.        ]\n",
      " [-0.88507007 -0.88507007  0.81649658  0.81649658]\n",
      " [-0.         -0.         -0.         -0.        ]\n",
      " [-0.35223982 -0.35223982  0.          0.        ]]\n",
      "[[ 0.11251888 -0.11251888 -0.          0.        ]\n",
      " [ 0.         -0.          0.         -0.        ]\n",
      " [-0.28269699  0.28269699  0.57735027 -0.57735027]\n",
      " [-0.          0.         -0.          0.        ]]\n"
     ]
    }
   ],
   "source": [
    "np.set_printoptions(linewidth=200, suppress=True)\n",
    "print(np.real(evals))\n",
    "print(np.imag(evals),'\\n')\n",
    "print(np.real(evecs))\n",
    "print(np.imag(evecs))\n",
    "#[print(vec) for vec in np.real(evecs)]"
   ]
  },
  {
   "cell_type": "code",
   "execution_count": null,
   "metadata": {},
   "outputs": [],
   "source": []
  },
  {
   "cell_type": "code",
   "execution_count": null,
   "metadata": {},
   "outputs": [],
   "source": []
  },
  {
   "cell_type": "code",
   "execution_count": null,
   "metadata": {},
   "outputs": [],
   "source": []
  },
  {
   "cell_type": "code",
   "execution_count": null,
   "metadata": {},
   "outputs": [],
   "source": []
  }
 ],
 "metadata": {
  "kernelspec": {
   "display_name": "Python 3",
   "language": "python",
   "name": "python3"
  },
  "language_info": {
   "codemirror_mode": {
    "name": "ipython",
    "version": 3
   },
   "file_extension": ".py",
   "mimetype": "text/x-python",
   "name": "python",
   "nbconvert_exporter": "python",
   "pygments_lexer": "ipython3",
   "version": "3.6.6"
  }
 },
 "nbformat": 4,
 "nbformat_minor": 2
}
