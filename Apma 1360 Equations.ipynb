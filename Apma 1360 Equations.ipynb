{
 "cells": [
  {
   "cell_type": "code",
   "execution_count": 28,
   "metadata": {},
   "outputs": [],
   "source": [
    "from sympy import *\n",
    "from sympy.matrices import *\n",
    "import mpmath\n",
    "import matplotlib.pyplot as plt\n",
    "import numpy as np"
   ]
  },
  {
   "cell_type": "code",
   "execution_count": 2,
   "metadata": {},
   "outputs": [
    {
     "data": {
      "text/html": [
       "<style>.container { width:100% !important; }</style>"
      ],
      "text/plain": [
       "<IPython.core.display.HTML object>"
      ]
     },
     "metadata": {},
     "output_type": "display_data"
    }
   ],
   "source": [
    "from IPython.core.display import display, HTML\n",
    "display(HTML(\"<style>.container { width:100% !important; }</style>\"))\n",
    "init_printing()"
   ]
  },
  {
   "cell_type": "code",
   "execution_count": 3,
   "metadata": {},
   "outputs": [],
   "source": [
    "# theta, epsilon, u, T, L, l, Dw, Dv, g, a, b, c, m, I, x, y = symbols('theta epsilon u T L l D_w D_v g a b c m I x y')\n",
    "theta, epsilon, u, T, L, g, a, b, c, m, I, x, y = symbols('theta epsilon u T L g a b c m I x y')"
   ]
  },
  {
   "cell_type": "code",
   "execution_count": 4,
   "metadata": {},
   "outputs": [],
   "source": [
    "def pseudo_abs(x):\n",
    "    return sqrt(x**22 + epsilon) - sqrt(epsilon)"
   ]
  },
  {
   "cell_type": "code",
   "execution_count": 59,
   "metadata": {},
   "outputs": [],
   "source": [
    "v = sqrt(a**2 + b**2)\n",
    "phi = atan2(b,a)\n",
    "\n",
    "xdot = a\n",
    "ydot = b\n",
    "thetadot = c\n",
    "\n",
    "# With drag\n",
    "# adot = 1/m * (-sin(theta + u) * T + sin(phi) * v**2 * pseudo_abs(sin(theta - phi)) * Dv)\n",
    "# bdot = 1/m * (cos(theta + u) * T - cos(phi) * v**2 * pseudo_abs(sin(theta - phi)) * Dv) - g\n",
    "# cdot = 1/I * (sin(u) * T * L - pseudo_abs(c)*c * Dw + l*v**2 * sin(theta - phi) * Dv)\n",
    "\n",
    "T = m*g\n",
    "u = theta + theta\n",
    "\n",
    "# Without drag\n",
    "adot = 1/m * (-sin(theta + u) * T)\n",
    "bdot = 1/m * (cos(theta + u) * T) - g\n",
    "cdot = 1/I * (sin(u) * T * L)"
   ]
  },
  {
   "cell_type": "code",
   "execution_count": 60,
   "metadata": {},
   "outputs": [
    {
     "name": "stdout",
     "output_type": "stream",
     "text": [
      "-g⋅sin(3⋅θ)\n",
      "g⋅cos(3⋅θ) - g\n",
      "ⅈ⋅g⋅m⋅sin(2⋅θ)\n"
     ]
    }
   ],
   "source": [
    "pprint(adot)\n",
    "pprint(bdot)\n",
    "pprint(cdot)"
   ]
  },
  {
   "cell_type": "code",
   "execution_count": 61,
   "metadata": {},
   "outputs": [
    {
     "data": {
      "image/png": "[encoded data removed]",
      "text/latex": [
       "$$\\left ( \\left[\\begin{matrix}x\\\\y\\\\\\theta\\\\a\\\\b\\\\c\\end{matrix}\\right], \\quad \\left[\\begin{matrix}a\\\\b\\\\c\\\\- g \\sin{\\left (3 \\theta \\right )}\\\\g \\cos{\\left (3 \\theta \\right )} - g\\\\i g m \\sin{\\left (2 \\theta \\right )}\\end{matrix}\\right]\\right )$$"
      ],
      "text/plain": [
       "⎛⎡x⎤  ⎡      a       ⎤⎞\n",
       "⎜⎢ ⎥  ⎢              ⎥⎟\n",
       "⎜⎢y⎥  ⎢      b       ⎥⎟\n",
       "⎜⎢ ⎥  ⎢              ⎥⎟\n",
       "⎜⎢θ⎥  ⎢      c       ⎥⎟\n",
       "⎜⎢ ⎥, ⎢              ⎥⎟\n",
       "⎜⎢a⎥  ⎢ -g⋅sin(3⋅θ)  ⎥⎟\n",
       "⎜⎢ ⎥  ⎢              ⎥⎟\n",
       "⎜⎢b⎥  ⎢g⋅cos(3⋅θ) - g⎥⎟\n",
       "⎜⎢ ⎥  ⎢              ⎥⎟\n",
       "⎝⎣c⎦  ⎣ⅈ⋅g⋅m⋅sin(2⋅θ)⎦⎠"
      ]
     },
     "execution_count": 61,
     "metadata": {},
     "output_type": "execute_result"
    }
   ],
   "source": [
    "state_vec = Matrix([x, y, theta, a, b, c])\n",
    "state_vec_dot = Matrix([xdot, ydot, thetadot, adot, bdot, cdot])\n",
    "state_vec, state_vec_dot"
   ]
  },
  {
   "cell_type": "code",
   "execution_count": 62,
   "metadata": {},
   "outputs": [
    {
     "name": "stdout",
     "output_type": "stream",
     "text": [
      "\\left[\\begin{matrix}0 & 0 & 0 & 1 & 0 & 0\\\\0 & 0 & 0 & 0 & 1 & 0\\\\0 & 0 & 0 & 0 & 0 & 1\\\\0 & 0 & - 3 g \\cos{\\left (3 \\theta \\right )} & 0 & 0 & 0\\\\0 & 0 & - 3 g \\sin{\\left (3 \\theta \\right )} & 0 & 0 & 0\\\\0 & 0 & 2 i g m \\cos{\\left (2 \\theta \\right )} & 0 & 0 & 0\\end{matrix}\\right]\n"
     ]
    },
    {
     "data": {
      "image/png": "[encoded data removed]",
      "text/latex": [
       "$$\\left[\\begin{matrix}0 & 0 & 0 & 1 & 0 & 0\\\\0 & 0 & 0 & 0 & 1 & 0\\\\0 & 0 & 0 & 0 & 0 & 1\\\\0 & 0 & - 3 g \\cos{\\left (3 \\theta \\right )} & 0 & 0 & 0\\\\0 & 0 & - 3 g \\sin{\\left (3 \\theta \\right )} & 0 & 0 & 0\\\\0 & 0 & 2 i g m \\cos{\\left (2 \\theta \\right )} & 0 & 0 & 0\\end{matrix}\\right]$$"
      ],
      "text/plain": [
       "⎡0  0         0          1  0  0⎤\n",
       "⎢                               ⎥\n",
       "⎢0  0         0          0  1  0⎥\n",
       "⎢                               ⎥\n",
       "⎢0  0         0          0  0  1⎥\n",
       "⎢                               ⎥\n",
       "⎢0  0   -3⋅g⋅cos(3⋅θ)    0  0  0⎥\n",
       "⎢                               ⎥\n",
       "⎢0  0   -3⋅g⋅sin(3⋅θ)    0  0  0⎥\n",
       "⎢                               ⎥\n",
       "⎣0  0  2⋅ⅈ⋅g⋅m⋅cos(2⋅θ)  0  0  0⎦"
      ]
     },
     "execution_count": 62,
     "metadata": {},
     "output_type": "execute_result"
    }
   ],
   "source": [
    "jac = state_vec_dot.jacobian(state_vec)\n",
    "print(latex(jac))\n",
    "jac"
   ]
  },
  {
   "cell_type": "code",
   "execution_count": 63,
   "metadata": {},
   "outputs": [
    {
     "data": {
      "image/png": "[encoded data removed]",
      "text/latex": [
       "$$\\left \\{ 0 : 4, \\quad - \\sqrt{2} \\sqrt{i g m \\cos{\\left (2 \\theta \\right )}} : 1, \\quad \\sqrt{2} \\sqrt{i g m \\cos{\\left (2 \\theta \\right )}} : 1\\right \\}$$"
      ],
      "text/plain": [
       "⎧            ________________          ________________   ⎫\n",
       "⎨0: 4, -√2⋅╲╱ ⅈ⋅g⋅m⋅cos(2⋅θ) : 1, √2⋅╲╱ ⅈ⋅g⋅m⋅cos(2⋅θ) : 1⎬\n",
       "⎩                                                         ⎭"
      ]
     },
     "execution_count": 63,
     "metadata": {},
     "output_type": "execute_result"
    }
   ],
   "source": [
    "jac.eigenvals()"
   ]
  },
  {
   "cell_type": "code",
   "execution_count": 64,
   "metadata": {},
   "outputs": [
    {
     "data": {
      "image/png": "[encoded data removed]",
      "text/latex": [
       "$$\\left[\\begin{matrix}0 & 0 & 0 & 1 & 0 & 0\\\\0 & 0 & 0 & 0 & 1 & 0\\\\0 & 0 & 0 & 0 & 0 & 1\\\\0 & 0 & -30.0 & 0 & 0 & 0\\\\0 & 0 & 0 & 0 & 0 & 0\\\\0 & 0 & 20.0 & 0 & 0 & 0\\end{matrix}\\right]$$"
      ],
      "text/plain": [
       "⎡0  0    0    1  0  0⎤\n",
       "⎢                    ⎥\n",
       "⎢0  0    0    0  1  0⎥\n",
       "⎢                    ⎥\n",
       "⎢0  0    0    0  0  1⎥\n",
       "⎢                    ⎥\n",
       "⎢0  0  -30.0  0  0  0⎥\n",
       "⎢                    ⎥\n",
       "⎢0  0    0    0  0  0⎥\n",
       "⎢                    ⎥\n",
       "⎣0  0  20.0   0  0  0⎦"
      ]
     },
     "execution_count": 64,
     "metadata": {},
     "output_type": "execute_result"
    }
   ],
   "source": [
    "# drag parameters\n",
    "l_real = 0.\n",
    "Dv_real = 0.\n",
    "Dw_real = 0.\n",
    "\n",
    "# other params\n",
    "L_real = -1\n",
    "I_real = 1.\n",
    "m_real = 1.\n",
    "g_real = 10.\n",
    "theta_real = 0\n",
    "phi_real = 0.\n",
    "epsilon_real = 1e-10\n",
    "a_real = 0.\n",
    "b_real = 1.\n",
    "c_real = 0.\n",
    "\n",
    "# with drag\n",
    "# jac_subs = jac.subs(L,L_real).subs(l,l_real).subs(Dv, Dv_real).subs(Dw, Dw_real).subs(I, I_real).subs(m,m_real).subs(g,g_real).subs(T, T_real).subs(theta, theta_real).subs(phi,phi_real).subs(epsilon, epsilon_real).subs(a,a_real).subs(b,b_real).subs(c,c_real)\n",
    "\n",
    "# without drag\n",
    "jac_subs = jac.subs(L,L_real).subs(I, I_real).subs(m,m_real).subs(g,g_real).subs(theta, theta_real).subs(phi,phi_real).subs(epsilon, epsilon_real).subs(a,a_real).subs(b,b_real).subs(c,c_real)\n",
    "jac_subs_np = np.array(jac_subs,dtype=np.float64)\n",
    "jac_subs"
   ]
  },
  {
   "cell_type": "code",
   "execution_count": 65,
   "metadata": {},
   "outputs": [],
   "source": [
    "[evals, evecs] = np.linalg.eig(jac_subs_np)"
   ]
  },
  {
   "cell_type": "code",
   "execution_count": 66,
   "metadata": {},
   "outputs": [
    {
     "name": "stdout",
     "output_type": "stream",
     "text": [
      "[ 0.          0.          4.47213595 -4.47213595  0.          0.        ]\n",
      "[0. 0. 0. 0. 0. 0.] \n",
      "\n",
      "[[ 1.         -1.         -0.18156826  0.18156826  0.          0.        ]\n",
      " [ 0.          0.          0.          0.          1.         -1.        ]\n",
      " [ 0.          0.          0.12104551 -0.12104551  0.          0.        ]\n",
      " [ 0.          0.         -0.81199794 -0.81199794  0.          0.        ]\n",
      " [ 0.          0.          0.          0.          0.          0.        ]\n",
      " [ 0.          0.          0.54133196  0.54133196  0.          0.        ]]\n",
      "[[0. 0. 0. 0. 0. 0.]\n",
      " [0. 0. 0. 0. 0. 0.]\n",
      " [0. 0. 0. 0. 0. 0.]\n",
      " [0. 0. 0. 0. 0. 0.]\n",
      " [0. 0. 0. 0. 0. 0.]\n",
      " [0. 0. 0. 0. 0. 0.]]\n"
     ]
    }
   ],
   "source": [
    "np.set_printoptions(linewidth=200, suppress=True)\n",
    "# print(evals, '\\n')\n",
    "# print(evecs)\n",
    "print(np.real(evals))\n",
    "print(np.imag(evals),'\\n')\n",
    "print(np.real(evecs))\n",
    "print(np.imag(evecs))\n",
    "#[print(vec) for vec in np.real(evecs)]"
   ]
  },
  {
   "cell_type": "code",
   "execution_count": null,
   "metadata": {},
   "outputs": [],
   "source": []
  },
  {
   "cell_type": "code",
   "execution_count": null,
   "metadata": {},
   "outputs": [],
   "source": []
  },
  {
   "cell_type": "code",
   "execution_count": null,
   "metadata": {},
   "outputs": [],
   "source": []
  },
  {
   "cell_type": "code",
   "execution_count": null,
   "metadata": {},
   "outputs": [],
   "source": []
  }
 ],
 "metadata": {
  "kernelspec": {
   "display_name": "Python 3",
   "language": "python",
   "name": "python3"
  },
  "language_info": {
   "codemirror_mode": {
    "name": "ipython",
    "version": 3
   },
   "file_extension": ".py",
   "mimetype": "text/x-python",
   "name": "python",
   "nbconvert_exporter": "python",
   "pygments_lexer": "ipython3",
   "version": "3.7.3"
  }
 },
 "nbformat": 4,
 "nbformat_minor": 2
}
