{
 "cells": [
  {
   "cell_type": "code",
   "execution_count": 1,
   "metadata": {},
   "outputs": [],
   "source": [
    "from sympy import *\n",
    "from sympy.matrices import *\n",
    "import mpmath\n",
    "import matplotlib.pyplot as plt\n",
    "import numpy as np"
   ]
  },
  {
   "cell_type": "code",
   "execution_count": 2,
   "metadata": {},
   "outputs": [
    {
     "data": {
      "text/html": [
       "<style>.container { width:100% !important; }</style>"
      ],
      "text/plain": [
       "<IPython.core.display.HTML object>"
      ]
     },
     "metadata": {},
     "output_type": "display_data"
    }
   ],
   "source": [
    "from IPython.core.display import display, HTML\n",
    "display(HTML(\"<style>.container { width:100% !important; }</style>\"))\n",
    "init_printing()"
   ]
  },
  {
   "cell_type": "code",
   "execution_count": 3,
   "metadata": {},
   "outputs": [],
   "source": [
    "# theta, epsilon, u, T, L, l, Dw, Dv, g, a, b, c, m, I, x, y = symbols('theta epsilon u T L l D_w D_v g a b c m I x y')\n",
    "theta, epsilon, u, mu, T, L, g, a, b, c, m, I, x, y = symbols('theta epsilon u mu T L g a b c m I x y')"
   ]
  },
  {
   "cell_type": "code",
   "execution_count": 4,
   "metadata": {},
   "outputs": [],
   "source": [
    "def pseudo_abs(x):\n",
    "    return sqrt(x**22 + epsilon) - sqrt(epsilon)"
   ]
  },
  {
   "cell_type": "code",
   "execution_count": 5,
   "metadata": {},
   "outputs": [],
   "source": [
    "xdot = a\n",
    "ydot = b\n",
    "thetadot = c\n",
    "\n",
    "# With drag\n",
    "# adot = 1/m * (-sin(theta + u) * T + sin(phi) * v**2 * pseudo_abs(sin(theta - phi)) * Dv)\n",
    "# bdot = 1/m * (cos(theta + u) * T - cos(phi) * v**2 * pseudo_abs(sin(theta - phi)) * Dv) - g\n",
    "# cdot = 1/I * (sin(u) * T * L - pseudo_abs(c)*c * Dw + l*v**2 * sin(theta - phi) * Dv)\n",
    "\n",
    "T = m*g - b\n",
    "u = theta + thetadot - mu*a\n",
    "\n",
    "# Without drag\n",
    "adot = 1/m * (-sin(theta + u) * T)\n",
    "bdot = 1/m * (cos(theta + u) * T) - g\n",
    "cdot = 1/I * (sin(u) * T * L)"
   ]
  },
  {
   "cell_type": "code",
   "execution_count": 6,
   "metadata": {},
   "outputs": [
    {
     "name": "stdout",
     "output_type": "stream",
     "text": [
      "-(-b + g⋅m)⋅sin(-a⋅μ + c + 2⋅θ) \n",
      "────────────────────────────────\n",
      "               m                \n",
      "     (-b + g⋅m)⋅cos(-a⋅μ + c + 2⋅θ)\n",
      "-g + ──────────────────────────────\n",
      "                   m               \n",
      "L⋅(-b + g⋅m)⋅sin(-a⋅μ + c + θ)\n",
      "──────────────────────────────\n",
      "              I               \n"
     ]
    }
   ],
   "source": [
    "pprint(adot)\n",
    "pprint(bdot)\n",
    "pprint(cdot)"
   ]
  },
  {
   "cell_type": "code",
   "execution_count": 7,
   "metadata": {},
   "outputs": [
    {
     "data": {
      "image/png": "[encoded data removed]",
      "text/latex": [
       "$$\\left ( \\left[\\begin{matrix}\\theta\\\\a\\\\b\\\\c\\end{matrix}\\right], \\quad \\left[\\begin{matrix}c\\\\- \\frac{\\left(- b + g m\\right) \\sin{\\left (- a \\mu + c + 2 \\theta \\right )}}{m}\\\\- g + \\frac{\\left(- b + g m\\right) \\cos{\\left (- a \\mu + c + 2 \\theta \\right )}}{m}\\\\\\frac{L \\left(- b + g m\\right) \\sin{\\left (- a \\mu + c + \\theta \\right )}}{I}\\end{matrix}\\right]\\right )$$"
      ],
      "text/plain": [
       "⎛     ⎡                 c                 ⎤⎞\n",
       "⎜     ⎢                                   ⎥⎟\n",
       "⎜     ⎢ -(-b + g⋅m)⋅sin(-a⋅μ + c + 2⋅θ)   ⎥⎟\n",
       "⎜⎡θ⎤  ⎢ ────────────────────────────────  ⎥⎟\n",
       "⎜⎢ ⎥  ⎢                m                  ⎥⎟\n",
       "⎜⎢a⎥  ⎢                                   ⎥⎟\n",
       "⎜⎢ ⎥, ⎢     (-b + g⋅m)⋅cos(-a⋅μ + c + 2⋅θ)⎥⎟\n",
       "⎜⎢b⎥  ⎢-g + ──────────────────────────────⎥⎟\n",
       "⎜⎢ ⎥  ⎢                   m               ⎥⎟\n",
       "⎜⎣c⎦  ⎢                                   ⎥⎟\n",
       "⎜     ⎢  L⋅(-b + g⋅m)⋅sin(-a⋅μ + c + θ)   ⎥⎟\n",
       "⎜     ⎢  ──────────────────────────────   ⎥⎟\n",
       "⎝     ⎣                I                  ⎦⎠"
      ]
     },
     "execution_count": 7,
     "metadata": {},
     "output_type": "execute_result"
    }
   ],
   "source": [
    "state_vec = Matrix([theta, a, b, c])\n",
    "state_vec_dot = Matrix([thetadot, adot, bdot, cdot])\n",
    "state_vec, state_vec_dot"
   ]
  },
  {
   "cell_type": "code",
   "execution_count": 8,
   "metadata": {},
   "outputs": [
    {
     "name": "stdout",
     "output_type": "stream",
     "text": [
      "\\left[\\begin{matrix}0 & 0 & 0 & 1\\\\- \\frac{2 \\left(- b + g m\\right) \\cos{\\left (- a \\mu + c + 2 \\theta \\right )}}{m} & \\frac{\\mu \\left(- b + g m\\right) \\cos{\\left (- a \\mu + c + 2 \\theta \\right )}}{m} & \\frac{\\sin{\\left (- a \\mu + c + 2 \\theta \\right )}}{m} & - \\frac{\\left(- b + g m\\right) \\cos{\\left (- a \\mu + c + 2 \\theta \\right )}}{m}\\\\- \\frac{2 \\left(- b + g m\\right) \\sin{\\left (- a \\mu + c + 2 \\theta \\right )}}{m} & \\frac{\\mu \\left(- b + g m\\right) \\sin{\\left (- a \\mu + c + 2 \\theta \\right )}}{m} & - \\frac{\\cos{\\left (- a \\mu + c + 2 \\theta \\right )}}{m} & - \\frac{\\left(- b + g m\\right) \\sin{\\left (- a \\mu + c + 2 \\theta \\right )}}{m}\\\\\\frac{L \\left(- b + g m\\right) \\cos{\\left (- a \\mu + c + \\theta \\right )}}{I} & - \\frac{L \\mu \\left(- b + g m\\right) \\cos{\\left (- a \\mu + c + \\theta \\right )}}{I} & - \\frac{L \\sin{\\left (- a \\mu + c + \\theta \\right )}}{I} & \\frac{L \\left(- b + g m\\right) \\cos{\\left (- a \\mu + c + \\theta \\right )}}{I}\\end{matrix}\\right]\n"
     ]
    },
    {
     "data": {
      "image/png": "[encoded data removed]",
      "text/latex": [
       "$$\\left[\\begin{matrix}0 & 0 & 0 & 1\\\\- \\frac{2 \\left(- b + g m\\right) \\cos{\\left (- a \\mu + c + 2 \\theta \\right )}}{m} & \\frac{\\mu \\left(- b + g m\\right) \\cos{\\left (- a \\mu + c + 2 \\theta \\right )}}{m} & \\frac{\\sin{\\left (- a \\mu + c + 2 \\theta \\right )}}{m} & - \\frac{\\left(- b + g m\\right) \\cos{\\left (- a \\mu + c + 2 \\theta \\right )}}{m}\\\\- \\frac{2 \\left(- b + g m\\right) \\sin{\\left (- a \\mu + c + 2 \\theta \\right )}}{m} & \\frac{\\mu \\left(- b + g m\\right) \\sin{\\left (- a \\mu + c + 2 \\theta \\right )}}{m} & - \\frac{\\cos{\\left (- a \\mu + c + 2 \\theta \\right )}}{m} & - \\frac{\\left(- b + g m\\right) \\sin{\\left (- a \\mu + c + 2 \\theta \\right )}}{m}\\\\\\frac{L \\left(- b + g m\\right) \\cos{\\left (- a \\mu + c + \\theta \\right )}}{I} & - \\frac{L \\mu \\left(- b + g m\\right) \\cos{\\left (- a \\mu + c + \\theta \\right )}}{I} & - \\frac{L \\sin{\\left (- a \\mu + c + \\theta \\right )}}{I} & \\frac{L \\left(- b + g m\\right) \\cos{\\left (- a \\mu + c + \\theta \\right )}}{I}\\end{matrix}\\right]$$"
      ],
      "text/plain": [
       "⎡                0                                   0                        \n",
       "⎢                                                                             \n",
       "⎢-2⋅(-b + g⋅m)⋅cos(-a⋅μ + c + 2⋅θ)    μ⋅(-b + g⋅m)⋅cos(-a⋅μ + c + 2⋅θ)    sin(\n",
       "⎢──────────────────────────────────   ────────────────────────────────    ────\n",
       "⎢                m                                   m                        \n",
       "⎢                                                                             \n",
       "⎢-2⋅(-b + g⋅m)⋅sin(-a⋅μ + c + 2⋅θ)    μ⋅(-b + g⋅m)⋅sin(-a⋅μ + c + 2⋅θ)   -cos(\n",
       "⎢──────────────────────────────────   ────────────────────────────────   ─────\n",
       "⎢                m                                   m                        \n",
       "⎢                                                                             \n",
       "⎢  L⋅(-b + g⋅m)⋅cos(-a⋅μ + c + θ)    -L⋅μ⋅(-b + g⋅m)⋅cos(-a⋅μ + c + θ)   -L⋅si\n",
       "⎢  ──────────────────────────────    ──────────────────────────────────  ─────\n",
       "⎣                I                                   I                        \n",
       "\n",
       "     0                           1                ⎤\n",
       "                                                  ⎥\n",
       "-a⋅μ + c + 2⋅θ)   -(-b + g⋅m)⋅cos(-a⋅μ + c + 2⋅θ) ⎥\n",
       "───────────────   ────────────────────────────────⎥\n",
       "     m                           m                ⎥\n",
       "                                                  ⎥\n",
       "-a⋅μ + c + 2⋅θ)   -(-b + g⋅m)⋅sin(-a⋅μ + c + 2⋅θ) ⎥\n",
       "────────────────  ────────────────────────────────⎥\n",
       "     m                           m                ⎥\n",
       "                                                  ⎥\n",
       "n(-a⋅μ + c + θ)    L⋅(-b + g⋅m)⋅cos(-a⋅μ + c + θ) ⎥\n",
       "────────────────   ────────────────────────────── ⎥\n",
       "     I                           I                ⎦"
      ]
     },
     "execution_count": 8,
     "metadata": {},
     "output_type": "execute_result"
    }
   ],
   "source": [
    "jac = state_vec_dot.jacobian(state_vec)\n",
    "print(latex(jac))\n",
    "jac"
   ]
  },
  {
   "cell_type": "code",
   "execution_count": 9,
   "metadata": {},
   "outputs": [],
   "source": [
    "# print(latex(jac.eigenvals()))\n",
    "# jac.eigenvals()"
   ]
  },
  {
   "cell_type": "code",
   "execution_count": 56,
   "metadata": {},
   "outputs": [
    {
     "data": {
      "image/png": "[encoded data removed]",
      "text/latex": [
       "$$\\left[\\begin{matrix}0 & 0 & 0 & 1\\\\-18.0 & -9.0 & 0 & -9.0\\\\0 & 0 & -1.0 & 0\\\\-9.0 & -9.0 & 0 & -9.0\\end{matrix}\\right]$$"
      ],
      "text/plain": [
       "⎡  0     0     0     1  ⎤\n",
       "⎢                       ⎥\n",
       "⎢-18.0  -9.0   0    -9.0⎥\n",
       "⎢                       ⎥\n",
       "⎢  0     0    -1.0   0  ⎥\n",
       "⎢                       ⎥\n",
       "⎣-9.0   -9.0   0    -9.0⎦"
      ]
     },
     "execution_count": 56,
     "metadata": {},
     "output_type": "execute_result"
    }
   ],
   "source": [
    "# drag parameters\n",
    "l_real = 0.\n",
    "Dv_real = 0.\n",
    "Dw_real = 0.\n",
    "\n",
    "# other params\n",
    "L_real = -1\n",
    "I_real = 1.\n",
    "m_real = 1.\n",
    "g_real = 10.\n",
    "theta_real = 0\n",
    "phi_real = 0.\n",
    "a_real = 0.\n",
    "b_real = 1.\n",
    "c_real = 0.\n",
    "mu_real = -1\n",
    "\n",
    "# with drag\n",
    "# jac_subs = jac.subs(L,L_real).subs(l,l_real).subs(Dv, Dv_real).subs(Dw, Dw_real).subs(I, I_real).subs(m,m_real).subs(g,g_real).subs(T, T_real).subs(theta, theta_real).subs(phi,phi_real).subs(epsilon, epsilon_real).subs(a,a_real).subs(b,b_real).subs(c,c_real)\n",
    "\n",
    "# without drag\n",
    "jac_subs = jac.subs(L,L_real).subs(I, I_real).subs(m,m_real).subs(mu,mu_real).subs(g,g_real).subs(theta, theta_real).subs(a,a_real).subs(b,b_real).subs(c,c_real)\n",
    "jac_subs_np = np.array(jac_subs,dtype=np.float64)\n",
    "jac_subs"
   ]
  },
  {
   "cell_type": "code",
   "execution_count": 57,
   "metadata": {},
   "outputs": [],
   "source": [
    "[evals, evecs] = np.linalg.eig(jac_subs_np)"
   ]
  },
  {
   "cell_type": "code",
   "execution_count": 58,
   "metadata": {},
   "outputs": [
    {
     "name": "stdout",
     "output_type": "stream",
     "text": [
      "[-17.20314318  -2.60459864   1.80774182  -1.        ]\n",
      "[0. 0. 0. 0.] \n",
      "\n",
      "[[-0.04169672  0.34283904  0.26423801  0.        ]\n",
      " [ 0.69550059  0.29169712 -0.83785782  0.        ]\n",
      " [ 0.          0.          0.          1.        ]\n",
      " [ 0.71731465 -0.89295811  0.4776741   0.        ]]\n",
      "[[0. 0. 0. 0.]\n",
      " [0. 0. 0. 0.]\n",
      " [0. 0. 0. 0.]\n",
      " [0. 0. 0. 0.]]\n"
     ]
    }
   ],
   "source": [
    "np.set_printoptions(linewidth=200, suppress=True)\n",
    "# print(evals, '\\n')\n",
    "# print(evecs)\n",
    "print(np.real(evals))\n",
    "print(np.imag(evals),'\\n')\n",
    "print(np.real(evecs))\n",
    "print(np.imag(evecs))\n",
    "#[print(vec) for vec in np.real(evecs)]"
   ]
  }
 ],
 "metadata": {
  "kernelspec": {
   "display_name": "Python 3",
   "language": "python",
   "name": "python3"
  },
  "language_info": {
   "codemirror_mode": {
    "name": "ipython",
    "version": 3
   },
   "file_extension": ".py",
   "mimetype": "text/x-python",
   "name": "python",
   "nbconvert_exporter": "python",
   "pygments_lexer": "ipython3",
   "version": "3.7.3"
  }
 },
 "nbformat": 4,
 "nbformat_minor": 2
}
